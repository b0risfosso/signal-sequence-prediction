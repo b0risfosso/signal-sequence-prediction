{
  "nbformat": 4,
  "nbformat_minor": 0,
  "metadata": {
    "colab": {
      "provenance": [],
      "authorship_tag": "ABX9TyOoGGxMfaOVqkASP5vPdmmW",
      "include_colab_link": true
    },
    "kernelspec": {
      "name": "python3",
      "display_name": "Python 3"
    },
    "language_info": {
      "name": "python"
    }
  },
  "cells": [
    {
      "cell_type": "markdown",
      "metadata": {
        "id": "view-in-github",
        "colab_type": "text"
      },
      "source": [
        "<a href=\"https://colab.research.google.com/github/b0risfosso/signal-sequence-prediction/blob/main/prot_seq_sig_pred.ipynb\" target=\"_parent\"><img src=\"https://colab.research.google.com/assets/colab-badge.svg\" alt=\"Open In Colab\"/></a>"
      ]
    },
    {
      "cell_type": "code",
      "execution_count": null,
      "metadata": {
        "id": "iaSA5x-hw2Sj"
      },
      "outputs": [],
      "source": [
        "import torch\n",
        "import torch.nn as nn\n",
        "import torch.optim as optim\n",
        "from torch.utils.data import Dataset, DataLoader\n",
        "\n",
        "# Example amino acid encoding\n",
        "amino_acids = 'ACDEFGHIKLMNPQRSTVWY'\n",
        "aa_dict = {aa: i for i, aa in enumerate(amino_acids)}\n",
        "\n",
        "def encode_sequence(seq):\n",
        "    return [aa_dict[aa] for aa in seq]\n",
        "\n",
        "# Dataset class\n",
        "class ProteinDataset(Dataset):\n",
        "    def __init__(self, sequences, labels, max_len):\n",
        "        self.sequences = [encode_sequence(seq) for seq in sequences]\n",
        "        self.labels = labels\n",
        "        self.max_len = max_len\n",
        "\n",
        "    def __len__(self):\n",
        "        return len(self.sequences)\n",
        "\n",
        "    def __getitem__(self, idx):\n",
        "        seq = self.sequences[idx]\n",
        "        label = self.labels[idx]\n",
        "        # Padding/truncating\n",
        "        seq = seq + [0] * (self.max_len - len(seq))\n",
        "        label = label + [0] * (self.max_len - len(label))\n",
        "        return torch.tensor(seq, dtype=torch.long), torch.tensor(label, dtype=torch.long)\n",
        "\n",
        "# Example data\n",
        "sequences = ['ACDEFGHIKLMNPQRSTVWY', 'LMNPQRSTVWYACDEFGHIK']  # Replace with actual sequences\n",
        "labels = [[0, 0, 0, 0, 0, 1, 1, 1, 0, 0, 0, 0, 0, 0, 0, 0, 0, 0, 0, 0],\n",
        "          [0, 0, 0, 0, 0, 0, 0, 1, 1, 1, 0, 0, 0, 0, 0, 0, 0, 0, 0, 0]]  # Replace with actual labels\n",
        "max_len = max(len(seq) for seq in sequences)\n",
        "dataset = ProteinDataset(sequences, labels, max_len)\n",
        "dataloader = DataLoader(dataset, batch_size=2, shuffle=True)\n",
        "\n",
        "# Transformer model\n",
        "class TransformerModel(nn.Module):\n",
        "    def __init__(self, input_dim, embed_dim, num_heads, hidden_dim, num_layers, output_dim, max_len):\n",
        "        super(TransformerModel, self).__init__()\n",
        "        self.embedding = nn.Embedding(input_dim, embed_dim)\n",
        "        self.positional_encoding = nn.Parameter(torch.zeros(1, max_len, embed_dim))\n",
        "        encoder_layers = nn.TransformerEncoderLayer(embed_dim, num_heads, hidden_dim)\n",
        "        self.transformer_encoder = nn.TransformerEncoder(encoder_layers, num_layers)\n",
        "        self.fc = nn.Linear(embed_dim, output_dim)\n",
        "        self.softmax = nn.Softmax(dim=2)\n",
        "\n",
        "    def forward(self, x):\n",
        "        x = self.embedding(x) + self.positional_encoding[:, :x.size(1), :]\n",
        "        x = self.transformer_encoder(x)\n",
        "        x = self.fc(x)\n",
        "        x = self.softmax(x)\n",
        "        return x\n",
        "\n",
        "input_dim = len(amino_acids)\n",
        "embed_dim = 64\n",
        "num_heads = 8\n",
        "hidden_dim = 256\n",
        "num_layers = 4\n",
        "output_dim = 2  # Signal or not signal\n",
        "max_len = max_len\n",
        "\n",
        "model = TransformerModel(input_dim, embed_dim, num_heads, hidden_dim, num_layers, output_dim, max_len)\n",
        "criterion = nn.CrossEntropyLoss()\n",
        "optimizer = optim.Adam(model.parameters(), lr=0.001)\n",
        "\n",
        "# Training loop\n",
        "num_epochs = 10\n",
        "for epoch in range(num_epochs):\n",
        "    for inputs, targets in dataloader:\n",
        "        optimizer.zero_grad()\n",
        "        outputs = model(inputs)\n",
        "        loss = criterion(outputs.view(-1, output_dim), targets.view(-1))\n",
        "        loss.backward()\n",
        "        optimizer.step()\n",
        "    print(f'Epoch {epoch+1}/{num_epochs}, Loss: {loss.item()}')\n",
        "\n",
        "# Evaluate on a single example\n",
        "with torch.no_grad():\n",
        "    example_seq = torch.tensor(encode_sequence('ACDEFGHIKLMNPQRSTVWY'), dtype=torch.long).unsqueeze(0)\n",
        "    prediction = model(example_seq)\n",
        "    predicted_labels = torch.argmax(prediction, dim=2)\n",
        "    print(predicted_labels)\n"
      ]
    }
  ]
}